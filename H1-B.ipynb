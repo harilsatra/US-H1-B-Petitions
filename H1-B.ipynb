{
 "cells": [
  {
   "cell_type": "code",
   "execution_count": 182,
   "metadata": {
    "collapsed": true
   },
   "outputs": [],
   "source": [
    "data1 <- read.csv(\"h1b_kaggle.csv\")"
   ]
  },
  {
   "cell_type": "code",
   "execution_count": 184,
   "metadata": {
    "collapsed": true
   },
   "outputs": [],
   "source": [
    "data1 <- na.omit(data1)"
   ]
  },
  {
   "cell_type": "code",
   "execution_count": 185,
   "metadata": {
    "collapsed": false
   },
   "outputs": [
    {
     "data": {
      "text/html": [
       "2877783"
      ],
      "text/latex": [
       "2877783"
      ],
      "text/markdown": [
       "2877783"
      ],
      "text/plain": [
       "[1] 2877783"
      ]
     },
     "metadata": {},
     "output_type": "display_data"
    }
   ],
   "source": [
    "nrow(data1)"
   ]
  },
  {
   "cell_type": "code",
   "execution_count": 186,
   "metadata": {
    "collapsed": true
   },
   "outputs": [],
   "source": [
    "data1 <- data1[data1$JOB_TITLE == \"COMPUTER PROGRAMMER\" | data1$JOB_TITLE == \"BUSINESS ANALYST\" |data1$JOB_TITLE ==\"CONSULTANT\"| data1$JOB_TITLE ==\"ACCOUNTANT\" ,]"
   ]
  },
  {
   "cell_type": "code",
   "execution_count": 187,
   "metadata": {
    "collapsed": false
   },
   "outputs": [
    {
     "data": {
      "text/html": [
       "143054"
      ],
      "text/latex": [
       "143054"
      ],
      "text/markdown": [
       "143054"
      ],
      "text/plain": [
       "[1] 143054"
      ]
     },
     "metadata": {},
     "output_type": "display_data"
    }
   ],
   "source": [
    "nrow(data1)"
   ]
  },
  {
   "cell_type": "code",
   "execution_count": 188,
   "metadata": {
    "collapsed": false
   },
   "outputs": [
    {
     "data": {
      "text/plain": [
       "       X                                                       CASE_STATUS    \n",
       " Min.   :   4601   CERTIFIED                                         :128436  \n",
       " 1st Qu.: 839584   CERTIFIED-WITHDRAWN                               :  7027  \n",
       " Median :1534365   DENIED                                            :  3968  \n",
       " Mean   :1498093   INVALIDATED                                       :     0  \n",
       " 3rd Qu.:2227209   PENDING QUALITY AND COMPLIANCE REVIEW - UNASSIGNED:     0  \n",
       " Max.   :3002428   REJECTED                                          :     0  \n",
       "                   WITHDRAWN                                         :  3623  \n",
       "                           EMPLOYER_NAME                         SOC_NAME    \n",
       " TATA CONSULTANCY SERVICES LIMITED: 15929   Computer Programmers     :43296  \n",
       " DELOITTE CONSULTING LLP          : 10762   COMPUTER PROGRAMMERS     :25820  \n",
       " LARSEN & TOUBRO INFOTECH LIMITED :  4216   Computer Systems Analysts:13065  \n",
       " IGATE TECHNOLOGIES INC.          :  3836   COMPUTER SYSTEMS ANALYSTS:11400  \n",
       " WIPRO LIMITED                    :  3723   Management Analysts      : 8612  \n",
       " TECH MAHINDRA (AMERICAS),INC.    :  2544   Accountants and Auditors : 7068  \n",
       " (Other)                          :102044   (Other)                  :33793  \n",
       "                      JOB_TITLE     FULL_TIME_POSITION PREVAILING_WAGE    \n",
       " COMPUTER PROGRAMMER       :68696   N: 26820           Min.   :        0  \n",
       " BUSINESS ANALYST          :38781   Y:116234           1st Qu.:    52499  \n",
       " CONSULTANT                :22643                      Median :    59280  \n",
       " ACCOUNTANT                :12934                      Mean   :   143300  \n",
       " 'ACCOUNTANT               :    0                      3rd Qu.:    66373  \n",
       " 'COMPUTER SYSTEMS ANALYSTS:    0                      Max.   :242971040  \n",
       " (Other)                   :    0                                         \n",
       "      YEAR                            WORKSITE           lon         \n",
       " Min.   :2011   NEW YORK, NEW YORK        :  6706   Min.   :-157.86  \n",
       " 1st Qu.:2013   HOUSTON, TEXAS            :  3878   1st Qu.: -96.73  \n",
       " Median :2014   ATLANTA, GEORGIA          :  3563   Median : -84.29  \n",
       " Mean   :2014   PHILADELPHIA, PENNSYLVANIA:  3152   Mean   : -88.50  \n",
       " 3rd Qu.:2015   CHICAGO, ILLINOIS         :  2898   3rd Qu.: -74.93  \n",
       " Max.   :2016   DALLAS, TEXAS             :  1880   Max.   : 145.73  \n",
       "                (Other)                   :120977                    \n",
       "      lat       \n",
       " Min.   :13.44  \n",
       " 1st Qu.:34.11  \n",
       " Median :39.74  \n",
       " Mean   :38.18  \n",
       " 3rd Qu.:40.87  \n",
       " Max.   :61.22  \n",
       "                "
      ]
     },
     "metadata": {},
     "output_type": "display_data"
    }
   ],
   "source": [
    "summary(data1)"
   ]
  },
  {
   "cell_type": "code",
   "execution_count": 189,
   "metadata": {
    "collapsed": true
   },
   "outputs": [],
   "source": [
    "data1$PREVAILING_WAGE <- cut(data1$PREVAILING_WAGE, breaks = c(0,55000,75000,175000,160000000), labels = c(\"Low\",\"Medium\",\"High\",\"Very High\"),right = FALSE)"
   ]
  },
  {
   "cell_type": "code",
   "execution_count": 190,
   "metadata": {
    "collapsed": false
   },
   "outputs": [
    {
     "data": {
      "text/plain": [
       "       X                                                       CASE_STATUS    \n",
       " Min.   :   4601   CERTIFIED                                         :128436  \n",
       " 1st Qu.: 839584   CERTIFIED-WITHDRAWN                               :  7027  \n",
       " Median :1534365   DENIED                                            :  3968  \n",
       " Mean   :1498093   INVALIDATED                                       :     0  \n",
       " 3rd Qu.:2227209   PENDING QUALITY AND COMPLIANCE REVIEW - UNASSIGNED:     0  \n",
       " Max.   :3002428   REJECTED                                          :     0  \n",
       "                   WITHDRAWN                                         :  3623  \n",
       "                           EMPLOYER_NAME                         SOC_NAME    \n",
       " TATA CONSULTANCY SERVICES LIMITED: 15929   Computer Programmers     :43296  \n",
       " DELOITTE CONSULTING LLP          : 10762   COMPUTER PROGRAMMERS     :25820  \n",
       " LARSEN & TOUBRO INFOTECH LIMITED :  4216   Computer Systems Analysts:13065  \n",
       " IGATE TECHNOLOGIES INC.          :  3836   COMPUTER SYSTEMS ANALYSTS:11400  \n",
       " WIPRO LIMITED                    :  3723   Management Analysts      : 8612  \n",
       " TECH MAHINDRA (AMERICAS),INC.    :  2544   Accountants and Auditors : 7068  \n",
       " (Other)                          :102044   (Other)                  :33793  \n",
       "                      JOB_TITLE     FULL_TIME_POSITION  PREVAILING_WAGE \n",
       " COMPUTER PROGRAMMER       :68696   N: 26820           Low      :46953  \n",
       " BUSINESS ANALYST          :38781   Y:116234           Medium   :81551  \n",
       " CONSULTANT                :22643                      High     :14422  \n",
       " ACCOUNTANT                :12934                      Very High:  123  \n",
       " 'ACCOUNTANT               :    0                      NA's     :    5  \n",
       " 'COMPUTER SYSTEMS ANALYSTS:    0                                       \n",
       " (Other)                   :    0                                       \n",
       "      YEAR                            WORKSITE           lon         \n",
       " Min.   :2011   NEW YORK, NEW YORK        :  6706   Min.   :-157.86  \n",
       " 1st Qu.:2013   HOUSTON, TEXAS            :  3878   1st Qu.: -96.73  \n",
       " Median :2014   ATLANTA, GEORGIA          :  3563   Median : -84.29  \n",
       " Mean   :2014   PHILADELPHIA, PENNSYLVANIA:  3152   Mean   : -88.50  \n",
       " 3rd Qu.:2015   CHICAGO, ILLINOIS         :  2898   3rd Qu.: -74.93  \n",
       " Max.   :2016   DALLAS, TEXAS             :  1880   Max.   : 145.73  \n",
       "                (Other)                   :120977                    \n",
       "      lat       \n",
       " Min.   :13.44  \n",
       " 1st Qu.:34.11  \n",
       " Median :39.74  \n",
       " Mean   :38.18  \n",
       " 3rd Qu.:40.87  \n",
       " Max.   :61.22  \n",
       "                "
      ]
     },
     "metadata": {},
     "output_type": "display_data"
    }
   ],
   "source": [
    "summary(data1)"
   ]
  },
  {
   "cell_type": "code",
   "execution_count": 21,
   "metadata": {
    "collapsed": false
   },
   "outputs": [
    {
     "name": "stderr",
     "output_type": "stream",
     "text": [
      "Installing package into 'C:/Users/Haril Satra/Documents/R/win-library/3.3'\n",
      "(as 'lib' is unspecified)\n"
     ]
    },
    {
     "name": "stdout",
     "output_type": "stream",
     "text": [
      "package 'reshape2' successfully unpacked and MD5 sums checked\n"
     ]
    },
    {
     "name": "stderr",
     "output_type": "stream",
     "text": [
      "Warning message:\n",
      "\"cannot remove prior installation of package 'reshape2'\""
     ]
    },
    {
     "name": "stdout",
     "output_type": "stream",
     "text": [
      "\n",
      "The downloaded binary packages are in\n",
      "\tC:\\Users\\Haril Satra\\AppData\\Local\\Temp\\Rtmp2NqWen\\downloaded_packages\n"
     ]
    }
   ],
   "source": [
    "install.packages(\"reshape2\",repos=\"https://cran.r-project.org\")"
   ]
  },
  {
   "cell_type": "code",
   "execution_count": 22,
   "metadata": {
    "collapsed": true
   },
   "outputs": [],
   "source": [
    "library(\"reshape2\")"
   ]
  },
  {
   "cell_type": "code",
   "execution_count": 194,
   "metadata": {
    "collapsed": true
   },
   "outputs": [],
   "source": [
    "temp <- colsplit(data1$WORKSITE, pattern = \", \", names = c('CITY', 'STATE'))"
   ]
  },
  {
   "cell_type": "code",
   "execution_count": 195,
   "metadata": {
    "collapsed": false
   },
   "outputs": [
    {
     "name": "stdout",
     "output_type": "stream",
     "text": [
      "'data.frame':\t143054 obs. of  2 variables:\n",
      " $ CITY : chr  \"ASHBURN\" \"CARY\" \"NEW YORK\" \"JERSEY CITY\" ...\n",
      " $ STATE: chr  \"VIRGINIA\" \"NORTH CAROLINA\" \"NEW YORK\" \"NEW JERSEY\" ...\n"
     ]
    }
   ],
   "source": [
    "str(temp)"
   ]
  },
  {
   "cell_type": "code",
   "execution_count": 196,
   "metadata": {
    "collapsed": false
   },
   "outputs": [],
   "source": [
    "data1$WORKSITE <- NULL"
   ]
  },
  {
   "cell_type": "code",
   "execution_count": 197,
   "metadata": {
    "collapsed": true
   },
   "outputs": [],
   "source": [
    "data1 <- cbind(data1,temp)"
   ]
  },
  {
   "cell_type": "code",
   "execution_count": 198,
   "metadata": {
    "collapsed": false
   },
   "outputs": [
    {
     "data": {
      "text/html": [
       "<table>\n",
       "<thead><tr><th></th><th scope=col>X</th><th scope=col>CASE_STATUS</th><th scope=col>EMPLOYER_NAME</th><th scope=col>SOC_NAME</th><th scope=col>JOB_TITLE</th><th scope=col>FULL_TIME_POSITION</th><th scope=col>PREVAILING_WAGE</th><th scope=col>YEAR</th><th scope=col>lon</th><th scope=col>lat</th><th scope=col>CITY</th><th scope=col>STATE</th></tr></thead>\n",
       "<tbody>\n",
       "\t<tr><th scope=row>4601</th><td> 4601                                    </td><td>CERTIFIED                                </td><td>GLOBAL TELECOM GROUP, INC.               </td><td>MARKETING MANAGERS                       </td><td>BUSINESS ANALYST                         </td><td>N                                        </td><td>Medium                                   </td><td>2016                                     </td><td>-77.48744                                </td><td>39.04376                                 </td><td>ASHBURN                                  </td><td>VIRGINIA                                 </td></tr>\n",
       "\t<tr><th scope=row>7304</th><td> 7304                                    </td><td>DENIED                                   </td><td>DIGIVERSE                                </td><td>ADMINISTRATIVE SERVICES MANAGERS         </td><td>CONSULTANT                               </td><td>N                                        </td><td>Medium                                   </td><td>2016                                     </td><td>-78.78112                                </td><td>35.79154                                 </td><td>CARY                                     </td><td>NORTH CAROLINA                           </td></tr>\n",
       "\t<tr><th scope=row>9860</th><td> 9860                                    </td><td>WITHDRAWN                                </td><td>NIIT TECHNOLOGIES LIMITED                </td><td>COMPUTER AND INFORMATION SYSTEMS MANAGERS</td><td>BUSINESS ANALYST                         </td><td>Y                                        </td><td>Medium                                   </td><td>2016                                     </td><td>-74.00594                                </td><td>40.71278                                 </td><td>NEW YORK                                 </td><td>NEW YORK                                 </td></tr>\n",
       "\t<tr><th scope=row>10175</th><td>10175                                    </td><td>CERTIFIED                                </td><td>CAPGEMINI AMERICA INC                    </td><td>COMPUTER AND INFORMATION SYSTEMS MANAGERS</td><td>BUSINESS ANALYST                         </td><td>N                                        </td><td>Medium                                   </td><td>2016                                     </td><td>-74.07764                                </td><td>40.72816                                 </td><td>JERSEY CITY                              </td><td>NEW JERSEY                               </td></tr>\n",
       "\t<tr><th scope=row>14248</th><td>14248                                    </td><td>CERTIFIED                                </td><td>CITIGROUP GLOBAL MARKETS INC.            </td><td>FINANCIAL MANAGERS                       </td><td>BUSINESS ANALYST                         </td><td>Y                                        </td><td>High                                     </td><td>2016                                     </td><td>-74.00594                                </td><td>40.71278                                 </td><td>NEW YORK                                 </td><td>NEW YORK                                 </td></tr>\n",
       "\t<tr><th scope=row>16939</th><td>16939                                    </td><td>CERTIFIED                                </td><td>INSTITUTIONAL SHAREHOLDER SERVICES, INC. </td><td>COMPENSATION AND BENEFITS MANAGERS       </td><td>BUSINESS ANALYST                         </td><td>N                                        </td><td>Medium                                   </td><td>2016                                     </td><td>-77.15276                                </td><td>39.08400                                 </td><td>ROCKVILLE                                </td><td>MARYLAND                                 </td></tr>\n",
       "</tbody>\n",
       "</table>\n"
      ],
      "text/latex": [
       "\\begin{tabular}{r|llllllllllll}\n",
       "  & X & CASE\\_STATUS & EMPLOYER\\_NAME & SOC\\_NAME & JOB\\_TITLE & FULL\\_TIME\\_POSITION & PREVAILING\\_WAGE & YEAR & lon & lat & CITY & STATE\\\\\n",
       "\\hline\n",
       "\t4601 &  4601                                     & CERTIFIED                                 & GLOBAL TELECOM GROUP, INC.                & MARKETING MANAGERS                        & BUSINESS ANALYST                          & N                                         & Medium                                    & 2016                                      & -77.48744                                 & 39.04376                                  & ASHBURN                                   & VIRGINIA                                 \\\\\n",
       "\t7304 &  7304                                     & DENIED                                    & DIGIVERSE                                 & ADMINISTRATIVE SERVICES MANAGERS          & CONSULTANT                                & N                                         & Medium                                    & 2016                                      & -78.78112                                 & 35.79154                                  & CARY                                      & NORTH CAROLINA                           \\\\\n",
       "\t9860 &  9860                                     & WITHDRAWN                                 & NIIT TECHNOLOGIES LIMITED                 & COMPUTER AND INFORMATION SYSTEMS MANAGERS & BUSINESS ANALYST                          & Y                                         & Medium                                    & 2016                                      & -74.00594                                 & 40.71278                                  & NEW YORK                                  & NEW YORK                                 \\\\\n",
       "\t10175 & 10175                                     & CERTIFIED                                 & CAPGEMINI AMERICA INC                     & COMPUTER AND INFORMATION SYSTEMS MANAGERS & BUSINESS ANALYST                          & N                                         & Medium                                    & 2016                                      & -74.07764                                 & 40.72816                                  & JERSEY CITY                               & NEW JERSEY                               \\\\\n",
       "\t14248 & 14248                                     & CERTIFIED                                 & CITIGROUP GLOBAL MARKETS INC.             & FINANCIAL MANAGERS                        & BUSINESS ANALYST                          & Y                                         & High                                      & 2016                                      & -74.00594                                 & 40.71278                                  & NEW YORK                                  & NEW YORK                                 \\\\\n",
       "\t16939 & 16939                                     & CERTIFIED                                 & INSTITUTIONAL SHAREHOLDER SERVICES, INC.  & COMPENSATION AND BENEFITS MANAGERS        & BUSINESS ANALYST                          & N                                         & Medium                                    & 2016                                      & -77.15276                                 & 39.08400                                  & ROCKVILLE                                 & MARYLAND                                 \\\\\n",
       "\\end{tabular}\n"
      ],
      "text/markdown": [
       "\n",
       "| <!--/--> | X | CASE_STATUS | EMPLOYER_NAME | SOC_NAME | JOB_TITLE | FULL_TIME_POSITION | PREVAILING_WAGE | YEAR | lon | lat | CITY | STATE | \n",
       "|---|---|---|---|---|---|\n",
       "| 4601 |  4601                                     | CERTIFIED                                 | GLOBAL TELECOM GROUP, INC.                | MARKETING MANAGERS                        | BUSINESS ANALYST                          | N                                         | Medium                                    | 2016                                      | -77.48744                                 | 39.04376                                  | ASHBURN                                   | VIRGINIA                                  | \n",
       "| 7304 |  7304                                     | DENIED                                    | DIGIVERSE                                 | ADMINISTRATIVE SERVICES MANAGERS          | CONSULTANT                                | N                                         | Medium                                    | 2016                                      | -78.78112                                 | 35.79154                                  | CARY                                      | NORTH CAROLINA                            | \n",
       "| 9860 |  9860                                     | WITHDRAWN                                 | NIIT TECHNOLOGIES LIMITED                 | COMPUTER AND INFORMATION SYSTEMS MANAGERS | BUSINESS ANALYST                          | Y                                         | Medium                                    | 2016                                      | -74.00594                                 | 40.71278                                  | NEW YORK                                  | NEW YORK                                  | \n",
       "| 10175 | 10175                                     | CERTIFIED                                 | CAPGEMINI AMERICA INC                     | COMPUTER AND INFORMATION SYSTEMS MANAGERS | BUSINESS ANALYST                          | N                                         | Medium                                    | 2016                                      | -74.07764                                 | 40.72816                                  | JERSEY CITY                               | NEW JERSEY                                | \n",
       "| 14248 | 14248                                     | CERTIFIED                                 | CITIGROUP GLOBAL MARKETS INC.             | FINANCIAL MANAGERS                        | BUSINESS ANALYST                          | Y                                         | High                                      | 2016                                      | -74.00594                                 | 40.71278                                  | NEW YORK                                  | NEW YORK                                  | \n",
       "| 16939 | 16939                                     | CERTIFIED                                 | INSTITUTIONAL SHAREHOLDER SERVICES, INC.  | COMPENSATION AND BENEFITS MANAGERS        | BUSINESS ANALYST                          | N                                         | Medium                                    | 2016                                      | -77.15276                                 | 39.08400                                  | ROCKVILLE                                 | MARYLAND                                  | \n",
       "\n",
       "\n"
      ],
      "text/plain": [
       "      X     CASE_STATUS EMPLOYER_NAME                           \n",
       "4601   4601 CERTIFIED   GLOBAL TELECOM GROUP, INC.              \n",
       "7304   7304 DENIED      DIGIVERSE                               \n",
       "9860   9860 WITHDRAWN   NIIT TECHNOLOGIES LIMITED               \n",
       "10175 10175 CERTIFIED   CAPGEMINI AMERICA INC                   \n",
       "14248 14248 CERTIFIED   CITIGROUP GLOBAL MARKETS INC.           \n",
       "16939 16939 CERTIFIED   INSTITUTIONAL SHAREHOLDER SERVICES, INC.\n",
       "      SOC_NAME                                  JOB_TITLE       \n",
       "4601  MARKETING MANAGERS                        BUSINESS ANALYST\n",
       "7304  ADMINISTRATIVE SERVICES MANAGERS          CONSULTANT      \n",
       "9860  COMPUTER AND INFORMATION SYSTEMS MANAGERS BUSINESS ANALYST\n",
       "10175 COMPUTER AND INFORMATION SYSTEMS MANAGERS BUSINESS ANALYST\n",
       "14248 FINANCIAL MANAGERS                        BUSINESS ANALYST\n",
       "16939 COMPENSATION AND BENEFITS MANAGERS        BUSINESS ANALYST\n",
       "      FULL_TIME_POSITION PREVAILING_WAGE YEAR lon       lat      CITY       \n",
       "4601  N                  Medium          2016 -77.48744 39.04376 ASHBURN    \n",
       "7304  N                  Medium          2016 -78.78112 35.79154 CARY       \n",
       "9860  Y                  Medium          2016 -74.00594 40.71278 NEW YORK   \n",
       "10175 N                  Medium          2016 -74.07764 40.72816 JERSEY CITY\n",
       "14248 Y                  High            2016 -74.00594 40.71278 NEW YORK   \n",
       "16939 N                  Medium          2016 -77.15276 39.08400 ROCKVILLE  \n",
       "      STATE         \n",
       "4601  VIRGINIA      \n",
       "7304  NORTH CAROLINA\n",
       "9860  NEW YORK      \n",
       "10175 NEW JERSEY    \n",
       "14248 NEW YORK      \n",
       "16939 MARYLAND      "
      ]
     },
     "metadata": {},
     "output_type": "display_data"
    }
   ],
   "source": [
    "head(data1)"
   ]
  },
  {
   "cell_type": "code",
   "execution_count": 199,
   "metadata": {
    "collapsed": true
   },
   "outputs": [],
   "source": [
    "levels(data1$PREVAILING_WAGE) <- c(\"LOW\",\"MEDIUM\",\"HIGH\",\"VERY HIGH\")"
   ]
  },
  {
   "cell_type": "code",
   "execution_count": 200,
   "metadata": {
    "collapsed": false
   },
   "outputs": [
    {
     "data": {
      "text/plain": [
       "       X                                                       CASE_STATUS    \n",
       " Min.   :   4601   CERTIFIED                                         :128436  \n",
       " 1st Qu.: 839584   CERTIFIED-WITHDRAWN                               :  7027  \n",
       " Median :1534365   DENIED                                            :  3968  \n",
       " Mean   :1498093   INVALIDATED                                       :     0  \n",
       " 3rd Qu.:2227209   PENDING QUALITY AND COMPLIANCE REVIEW - UNASSIGNED:     0  \n",
       " Max.   :3002428   REJECTED                                          :     0  \n",
       "                   WITHDRAWN                                         :  3623  \n",
       "                           EMPLOYER_NAME                         SOC_NAME    \n",
       " TATA CONSULTANCY SERVICES LIMITED: 15929   Computer Programmers     :43296  \n",
       " DELOITTE CONSULTING LLP          : 10762   COMPUTER PROGRAMMERS     :25820  \n",
       " LARSEN & TOUBRO INFOTECH LIMITED :  4216   Computer Systems Analysts:13065  \n",
       " IGATE TECHNOLOGIES INC.          :  3836   COMPUTER SYSTEMS ANALYSTS:11400  \n",
       " WIPRO LIMITED                    :  3723   Management Analysts      : 8612  \n",
       " TECH MAHINDRA (AMERICAS),INC.    :  2544   Accountants and Auditors : 7068  \n",
       " (Other)                          :102044   (Other)                  :33793  \n",
       "                      JOB_TITLE     FULL_TIME_POSITION  PREVAILING_WAGE \n",
       " COMPUTER PROGRAMMER       :68696   N: 26820           LOW      :46953  \n",
       " BUSINESS ANALYST          :38781   Y:116234           MEDIUM   :81551  \n",
       " CONSULTANT                :22643                      HIGH     :14422  \n",
       " ACCOUNTANT                :12934                      VERY HIGH:  123  \n",
       " 'ACCOUNTANT               :    0                      NA's     :    5  \n",
       " 'COMPUTER SYSTEMS ANALYSTS:    0                                       \n",
       " (Other)                   :    0                                       \n",
       "      YEAR           lon               lat            CITY          \n",
       " Min.   :2011   Min.   :-157.86   Min.   :13.44   Length:143054     \n",
       " 1st Qu.:2013   1st Qu.: -96.73   1st Qu.:34.11   Class :character  \n",
       " Median :2014   Median : -84.29   Median :39.74   Mode  :character  \n",
       " Mean   :2014   Mean   : -88.50   Mean   :38.18                     \n",
       " 3rd Qu.:2015   3rd Qu.: -74.93   3rd Qu.:40.87                     \n",
       " Max.   :2016   Max.   : 145.73   Max.   :61.22                     \n",
       "                                                                    \n",
       "    STATE          \n",
       " Length:143054     \n",
       " Class :character  \n",
       " Mode  :character  \n",
       "                   \n",
       "                   \n",
       "                   \n",
       "                   "
      ]
     },
     "metadata": {},
     "output_type": "display_data"
    }
   ],
   "source": [
    "summary(data1)"
   ]
  },
  {
   "cell_type": "code",
   "execution_count": 90,
   "metadata": {
    "collapsed": true
   },
   "outputs": [],
   "source": [
    "write.csv(data1,\"data1.csv\")"
   ]
  },
  {
   "cell_type": "code",
   "execution_count": 201,
   "metadata": {
    "collapsed": false
   },
   "outputs": [
    {
     "name": "stdout",
     "output_type": "stream",
     "text": [
      "'data.frame':\t143054 obs. of  12 variables:\n",
      " $ X                 : int  4601 7304 9860 10175 14248 16939 17683 20499 20501 21586 ...\n",
      " $ CASE_STATUS       : Factor w/ 7 levels \"CERTIFIED\",\"CERTIFIED-WITHDRAWN\",..: 1 3 7 1 1 1 1 1 1 3 ...\n",
      " $ EMPLOYER_NAME     : Factor w/ 236014 levels \"'K' LINE LOGISTICS USA INC\",..: 84746 59377 147017 36155 43340 103090 216495 187805 187805 74274 ...\n",
      " $ SOC_NAME          : Factor w/ 2133 levels \"<FONT><FONT>CARPINTEROS</FONT></FONT>\",..: 1274 26 364 364 848 340 520 1334 1334 1646 ...\n",
      " $ JOB_TITLE         : Factor w/ 287550 levels \"'ACCOUNTANT\",..: 35091 53567 35091 35091 35091 35091 53567 35091 35091 1859 ...\n",
      " $ FULL_TIME_POSITION: Factor w/ 2 levels \"N\",\"Y\": 1 1 2 1 2 1 2 2 2 1 ...\n",
      " $ PREVAILING_WAGE   : Factor w/ 4 levels \"LOW\",\"MEDIUM\",..: 2 2 2 2 3 2 3 2 2 2 ...\n",
      " $ YEAR              : int  2016 2016 2016 2016 2016 2016 2016 2016 2016 2016 ...\n",
      " $ lon               : num  -77.5 -78.8 -74 -74.1 -74 ...\n",
      " $ lat               : num  39 35.8 40.7 40.7 40.7 ...\n",
      " $ CITY              : chr  \"ASHBURN\" \"CARY\" \"NEW YORK\" \"JERSEY CITY\" ...\n",
      " $ STATE             : chr  \"VIRGINIA\" \"NORTH CAROLINA\" \"NEW YORK\" \"NEW JERSEY\" ...\n"
     ]
    }
   ],
   "source": [
    "str(data1)"
   ]
  },
  {
   "cell_type": "code",
   "execution_count": 202,
   "metadata": {
    "collapsed": true
   },
   "outputs": [],
   "source": [
    "mapping <- data.frame(STATE=state.name,REGION=state.region)"
   ]
  },
  {
   "cell_type": "code",
   "execution_count": 203,
   "metadata": {
    "collapsed": false
   },
   "outputs": [],
   "source": [
    "mapping$STATE <- toupper(mapping$STATE)\n",
    "mapping$REGION <- toupper(mapping$REGION)"
   ]
  },
  {
   "cell_type": "code",
   "execution_count": 204,
   "metadata": {
    "collapsed": false
   },
   "outputs": [
    {
     "name": "stdout",
     "output_type": "stream",
     "text": [
      "'data.frame':\t50 obs. of  2 variables:\n",
      " $ STATE : chr  \"ALABAMA\" \"ALASKA\" \"ARIZONA\" \"ARKANSAS\" ...\n",
      " $ REGION: chr  \"SOUTH\" \"WEST\" \"WEST\" \"SOUTH\" ...\n"
     ]
    }
   ],
   "source": [
    "str(mapping)"
   ]
  },
  {
   "cell_type": "code",
   "execution_count": 205,
   "metadata": {
    "collapsed": true
   },
   "outputs": [],
   "source": [
    "mapping$STATE <- as.character(mapping$STATE)\n",
    "mapping$REGION <- as.character(mapping$REGION)"
   ]
  },
  {
   "cell_type": "code",
   "execution_count": 206,
   "metadata": {
    "collapsed": false
   },
   "outputs": [
    {
     "data": {
      "text/html": [
       "<table>\n",
       "<thead><tr><th scope=col>STATE</th><th scope=col>REGION</th></tr></thead>\n",
       "<tbody>\n",
       "\t<tr><td>ALABAMA   </td><td>SOUTH     </td></tr>\n",
       "\t<tr><td>ALASKA    </td><td>WEST      </td></tr>\n",
       "\t<tr><td>ARIZONA   </td><td>WEST      </td></tr>\n",
       "\t<tr><td>ARKANSAS  </td><td>SOUTH     </td></tr>\n",
       "\t<tr><td>CALIFORNIA</td><td>WEST      </td></tr>\n",
       "\t<tr><td>COLORADO  </td><td>WEST      </td></tr>\n",
       "</tbody>\n",
       "</table>\n"
      ],
      "text/latex": [
       "\\begin{tabular}{r|ll}\n",
       " STATE & REGION\\\\\n",
       "\\hline\n",
       "\t ALABAMA    & SOUTH     \\\\\n",
       "\t ALASKA     & WEST      \\\\\n",
       "\t ARIZONA    & WEST      \\\\\n",
       "\t ARKANSAS   & SOUTH     \\\\\n",
       "\t CALIFORNIA & WEST      \\\\\n",
       "\t COLORADO   & WEST      \\\\\n",
       "\\end{tabular}\n"
      ],
      "text/markdown": [
       "\n",
       "STATE | REGION | \n",
       "|---|---|---|---|---|---|\n",
       "| ALABAMA    | SOUTH      | \n",
       "| ALASKA     | WEST       | \n",
       "| ARIZONA    | WEST       | \n",
       "| ARKANSAS   | SOUTH      | \n",
       "| CALIFORNIA | WEST       | \n",
       "| COLORADO   | WEST       | \n",
       "\n",
       "\n"
      ],
      "text/plain": [
       "  STATE      REGION\n",
       "1 ALABAMA    SOUTH \n",
       "2 ALASKA     WEST  \n",
       "3 ARIZONA    WEST  \n",
       "4 ARKANSAS   SOUTH \n",
       "5 CALIFORNIA WEST  \n",
       "6 COLORADO   WEST  "
      ]
     },
     "metadata": {},
     "output_type": "display_data"
    }
   ],
   "source": [
    "head(mapping)"
   ]
  },
  {
   "cell_type": "code",
   "execution_count": 207,
   "metadata": {
    "collapsed": true
   },
   "outputs": [],
   "source": [
    "final <- merge(data1,mapping,by=\"STATE\")"
   ]
  },
  {
   "cell_type": "code",
   "execution_count": 208,
   "metadata": {
    "collapsed": false
   },
   "outputs": [
    {
     "data": {
      "text/html": [
       "<table>\n",
       "<thead><tr><th scope=col>STATE</th><th scope=col>X</th><th scope=col>CASE_STATUS</th><th scope=col>EMPLOYER_NAME</th><th scope=col>SOC_NAME</th><th scope=col>JOB_TITLE</th><th scope=col>FULL_TIME_POSITION</th><th scope=col>PREVAILING_WAGE</th><th scope=col>YEAR</th><th scope=col>lon</th><th scope=col>lat</th><th scope=col>CITY</th><th scope=col>REGION</th></tr></thead>\n",
       "<tbody>\n",
       "\t<tr><td>ALABAMA                          </td><td>1852434                          </td><td>CERTIFIED                        </td><td>AIA RECYCLING CORPORATION        </td><td>Accountants and Auditors         </td><td>ACCOUNTANT                       </td><td>Y                                </td><td>LOW                              </td><td>2013                             </td><td>-86.61775                        </td><td>31.82960                         </td><td>GREENVILLE                       </td><td>SOUTH                            </td></tr>\n",
       "\t<tr><td>ALABAMA                          </td><td>  36577                          </td><td>CERTIFIED                        </td><td>SLRI SOLUTIONS, LLC              </td><td>MANAGEMENT ANALYSTS              </td><td>BUSINESS ANALYST                 </td><td>N                                </td><td>MEDIUM                           </td><td>2016                             </td><td>-86.58610                        </td><td>34.73037                         </td><td>HUNTSVILLE                       </td><td>SOUTH                            </td></tr>\n",
       "\t<tr><td>ALABAMA                          </td><td>1448478                          </td><td>CERTIFIED                        </td><td>TATA CONSULTANCY SERVICES LIMITED</td><td>Computer Programmers             </td><td>COMPUTER PROGRAMMER              </td><td>Y                                </td><td>LOW                              </td><td>2014                             </td><td>-86.98334                        </td><td>34.60593                         </td><td>DECATUR                          </td><td>SOUTH                            </td></tr>\n",
       "\t<tr><td>ALABAMA                          </td><td>1034644                          </td><td>CERTIFIED                        </td><td>TECHNOSOFT CORPORATION           </td><td>COMPUTER SYSTEMS ANALYSTS        </td><td>BUSINESS ANALYST                 </td><td>Y                                </td><td>LOW                              </td><td>2015                             </td><td>-86.29997                        </td><td>32.36681                         </td><td>MONTGOMERY                       </td><td>SOUTH                            </td></tr>\n",
       "\t<tr><td>ALABAMA                          </td><td>2885231                          </td><td>CERTIFIED                        </td><td>HORIZON TECHNOLOGIES INC         </td><td>Computer Programmers             </td><td>COMPUTER PROGRAMMER              </td><td>Y                                </td><td>LOW                              </td><td>2011                             </td><td>-86.58610                        </td><td>34.73037                         </td><td>HUNTSVILLE                       </td><td>SOUTH                            </td></tr>\n",
       "\t<tr><td>ALABAMA                          </td><td>1556606                          </td><td>CERTIFIED                        </td><td>GLOBAL SYSTEMS LLC               </td><td>Computer Systems Analysts        </td><td>BUSINESS ANALYST                 </td><td>Y                                </td><td>LOW                              </td><td>2014                             </td><td>-86.80249                        </td><td>33.52066                         </td><td>BIRMINGHAM                       </td><td>SOUTH                            </td></tr>\n",
       "</tbody>\n",
       "</table>\n"
      ],
      "text/latex": [
       "\\begin{tabular}{r|lllllllllllll}\n",
       " STATE & X & CASE\\_STATUS & EMPLOYER\\_NAME & SOC\\_NAME & JOB\\_TITLE & FULL\\_TIME\\_POSITION & PREVAILING\\_WAGE & YEAR & lon & lat & CITY & REGION\\\\\n",
       "\\hline\n",
       "\t ALABAMA                           & 1852434                           & CERTIFIED                         & AIA RECYCLING CORPORATION         & Accountants and Auditors          & ACCOUNTANT                        & Y                                 & LOW                               & 2013                              & -86.61775                         & 31.82960                          & GREENVILLE                        & SOUTH                            \\\\\n",
       "\t ALABAMA                           &   36577                           & CERTIFIED                         & SLRI SOLUTIONS, LLC               & MANAGEMENT ANALYSTS               & BUSINESS ANALYST                  & N                                 & MEDIUM                            & 2016                              & -86.58610                         & 34.73037                          & HUNTSVILLE                        & SOUTH                            \\\\\n",
       "\t ALABAMA                           & 1448478                           & CERTIFIED                         & TATA CONSULTANCY SERVICES LIMITED & Computer Programmers              & COMPUTER PROGRAMMER               & Y                                 & LOW                               & 2014                              & -86.98334                         & 34.60593                          & DECATUR                           & SOUTH                            \\\\\n",
       "\t ALABAMA                           & 1034644                           & CERTIFIED                         & TECHNOSOFT CORPORATION            & COMPUTER SYSTEMS ANALYSTS         & BUSINESS ANALYST                  & Y                                 & LOW                               & 2015                              & -86.29997                         & 32.36681                          & MONTGOMERY                        & SOUTH                            \\\\\n",
       "\t ALABAMA                           & 2885231                           & CERTIFIED                         & HORIZON TECHNOLOGIES INC          & Computer Programmers              & COMPUTER PROGRAMMER               & Y                                 & LOW                               & 2011                              & -86.58610                         & 34.73037                          & HUNTSVILLE                        & SOUTH                            \\\\\n",
       "\t ALABAMA                           & 1556606                           & CERTIFIED                         & GLOBAL SYSTEMS LLC                & Computer Systems Analysts         & BUSINESS ANALYST                  & Y                                 & LOW                               & 2014                              & -86.80249                         & 33.52066                          & BIRMINGHAM                        & SOUTH                            \\\\\n",
       "\\end{tabular}\n"
      ],
      "text/markdown": [
       "\n",
       "STATE | X | CASE_STATUS | EMPLOYER_NAME | SOC_NAME | JOB_TITLE | FULL_TIME_POSITION | PREVAILING_WAGE | YEAR | lon | lat | CITY | REGION | \n",
       "|---|---|---|---|---|---|\n",
       "| ALABAMA                           | 1852434                           | CERTIFIED                         | AIA RECYCLING CORPORATION         | Accountants and Auditors          | ACCOUNTANT                        | Y                                 | LOW                               | 2013                              | -86.61775                         | 31.82960                          | GREENVILLE                        | SOUTH                             | \n",
       "| ALABAMA                           |   36577                           | CERTIFIED                         | SLRI SOLUTIONS, LLC               | MANAGEMENT ANALYSTS               | BUSINESS ANALYST                  | N                                 | MEDIUM                            | 2016                              | -86.58610                         | 34.73037                          | HUNTSVILLE                        | SOUTH                             | \n",
       "| ALABAMA                           | 1448478                           | CERTIFIED                         | TATA CONSULTANCY SERVICES LIMITED | Computer Programmers              | COMPUTER PROGRAMMER               | Y                                 | LOW                               | 2014                              | -86.98334                         | 34.60593                          | DECATUR                           | SOUTH                             | \n",
       "| ALABAMA                           | 1034644                           | CERTIFIED                         | TECHNOSOFT CORPORATION            | COMPUTER SYSTEMS ANALYSTS         | BUSINESS ANALYST                  | Y                                 | LOW                               | 2015                              | -86.29997                         | 32.36681                          | MONTGOMERY                        | SOUTH                             | \n",
       "| ALABAMA                           | 2885231                           | CERTIFIED                         | HORIZON TECHNOLOGIES INC          | Computer Programmers              | COMPUTER PROGRAMMER               | Y                                 | LOW                               | 2011                              | -86.58610                         | 34.73037                          | HUNTSVILLE                        | SOUTH                             | \n",
       "| ALABAMA                           | 1556606                           | CERTIFIED                         | GLOBAL SYSTEMS LLC                | Computer Systems Analysts         | BUSINESS ANALYST                  | Y                                 | LOW                               | 2014                              | -86.80249                         | 33.52066                          | BIRMINGHAM                        | SOUTH                             | \n",
       "\n",
       "\n"
      ],
      "text/plain": [
       "  STATE   X       CASE_STATUS EMPLOYER_NAME                    \n",
       "1 ALABAMA 1852434 CERTIFIED   AIA RECYCLING CORPORATION        \n",
       "2 ALABAMA   36577 CERTIFIED   SLRI SOLUTIONS, LLC              \n",
       "3 ALABAMA 1448478 CERTIFIED   TATA CONSULTANCY SERVICES LIMITED\n",
       "4 ALABAMA 1034644 CERTIFIED   TECHNOSOFT CORPORATION           \n",
       "5 ALABAMA 2885231 CERTIFIED   HORIZON TECHNOLOGIES INC         \n",
       "6 ALABAMA 1556606 CERTIFIED   GLOBAL SYSTEMS LLC               \n",
       "  SOC_NAME                  JOB_TITLE           FULL_TIME_POSITION\n",
       "1 Accountants and Auditors  ACCOUNTANT          Y                 \n",
       "2 MANAGEMENT ANALYSTS       BUSINESS ANALYST    N                 \n",
       "3 Computer Programmers      COMPUTER PROGRAMMER Y                 \n",
       "4 COMPUTER SYSTEMS ANALYSTS BUSINESS ANALYST    Y                 \n",
       "5 Computer Programmers      COMPUTER PROGRAMMER Y                 \n",
       "6 Computer Systems Analysts BUSINESS ANALYST    Y                 \n",
       "  PREVAILING_WAGE YEAR lon       lat      CITY       REGION\n",
       "1 LOW             2013 -86.61775 31.82960 GREENVILLE SOUTH \n",
       "2 MEDIUM          2016 -86.58610 34.73037 HUNTSVILLE SOUTH \n",
       "3 LOW             2014 -86.98334 34.60593 DECATUR    SOUTH \n",
       "4 LOW             2015 -86.29997 32.36681 MONTGOMERY SOUTH \n",
       "5 LOW             2011 -86.58610 34.73037 HUNTSVILLE SOUTH \n",
       "6 LOW             2014 -86.80249 33.52066 BIRMINGHAM SOUTH "
      ]
     },
     "metadata": {},
     "output_type": "display_data"
    }
   ],
   "source": [
    "head(final)"
   ]
  },
  {
   "cell_type": "code",
   "execution_count": 209,
   "metadata": {
    "collapsed": false
   },
   "outputs": [
    {
     "data": {
      "text/plain": [
       "    STATE                 X          \n",
       " Length:141675      Min.   :   4601  \n",
       " Class :character   1st Qu.: 838553  \n",
       " Mode  :character   Median :1533541  \n",
       "                    Mean   :1497348  \n",
       "                    3rd Qu.:2225463  \n",
       "                    Max.   :3002428  \n",
       "                                     \n",
       "                                             CASE_STATUS    \n",
       " CERTIFIED                                         :127317  \n",
       " CERTIFIED-WITHDRAWN                               :  6929  \n",
       " DENIED                                            :  3836  \n",
       " INVALIDATED                                       :     0  \n",
       " PENDING QUALITY AND COMPLIANCE REVIEW - UNASSIGNED:     0  \n",
       " REJECTED                                          :     0  \n",
       " WITHDRAWN                                         :  3593  \n",
       "                           EMPLOYER_NAME                         SOC_NAME    \n",
       " TATA CONSULTANCY SERVICES LIMITED: 15851   Computer Programmers     :43047  \n",
       " DELOITTE CONSULTING LLP          : 10727   COMPUTER PROGRAMMERS     :25667  \n",
       " LARSEN & TOUBRO INFOTECH LIMITED :  4216   Computer Systems Analysts:12927  \n",
       " IGATE TECHNOLOGIES INC.          :  3835   COMPUTER SYSTEMS ANALYSTS:11276  \n",
       " WIPRO LIMITED                    :  3717   Management Analysts      : 8532  \n",
       " TECH MAHINDRA (AMERICAS),INC.    :  2544   Accountants and Auditors : 6801  \n",
       " (Other)                          :100785   (Other)                  :33425  \n",
       "                      JOB_TITLE     FULL_TIME_POSITION  PREVAILING_WAGE \n",
       " COMPUTER PROGRAMMER       :68294   N: 26581           LOW      :46443  \n",
       " BUSINESS ANALYST          :38310   Y:115094           MEDIUM   :80856  \n",
       " CONSULTANT                :22525                      HIGH     :14250  \n",
       " ACCOUNTANT                :12546                      VERY HIGH:  121  \n",
       " 'ACCOUNTANT               :    0                      NA's     :    5  \n",
       " 'COMPUTER SYSTEMS ANALYSTS:    0                                       \n",
       " (Other)                   :    0                                       \n",
       "      YEAR           lon               lat            CITY          \n",
       " Min.   :2011   Min.   :-157.86   Min.   :21.31   Length:141675     \n",
       " 1st Qu.:2013   1st Qu.: -96.73   1st Qu.:34.11   Class :character  \n",
       " Median :2014   Median : -84.29   Median :39.77   Mode  :character  \n",
       " Mean   :2014   Mean   : -89.01   Mean   :38.22                     \n",
       " 3rd Qu.:2015   3rd Qu.: -74.89   3rd Qu.:40.89                     \n",
       " Max.   :2016   Max.   : -68.78   Max.   :61.22                     \n",
       "                                                                    \n",
       "    REGION         \n",
       " Length:141675     \n",
       " Class :character  \n",
       " Mode  :character  \n",
       "                   \n",
       "                   \n",
       "                   \n",
       "                   "
      ]
     },
     "metadata": {},
     "output_type": "display_data"
    }
   ],
   "source": [
    "summary(final)"
   ]
  },
  {
   "cell_type": "code",
   "execution_count": 210,
   "metadata": {
    "collapsed": false
   },
   "outputs": [],
   "source": [
    "write.csv(final,\"data1.csv\")"
   ]
  },
  {
   "cell_type": "code",
   "execution_count": null,
   "metadata": {
    "collapsed": true
   },
   "outputs": [],
   "source": []
  }
 ],
 "metadata": {
  "anaconda-cloud": {},
  "kernelspec": {
   "display_name": "R",
   "language": "R",
   "name": "ir"
  },
  "language_info": {
   "codemirror_mode": "r",
   "file_extension": ".r",
   "mimetype": "text/x-r-source",
   "name": "R",
   "pygments_lexer": "r",
   "version": "3.3.2"
  }
 },
 "nbformat": 4,
 "nbformat_minor": 1
}
